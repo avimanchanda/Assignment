{
 "cells": [
  {
   "cell_type": "code",
   "execution_count": 2,
   "id": "eeb81f83-2c4f-47fe-a6fc-1acdf28ff728",
   "metadata": {},
   "outputs": [],
   "source": [
    "#Q1\n",
    "\n",
    "In Python we comment code using #. \n",
    "In Python There are two types of comments: line-comment and block comment.\n"
   ]
  },
  {
   "cell_type": "code",
   "execution_count": 4,
   "id": "7e4dd8cc-d2d0-4799-9428-2b6c5a0c0c14",
   "metadata": {},
   "outputs": [],
   "source": [
    "#Q2\n",
    "\n",
    "Python Variable is containers that store values. It is a symbolic name that is a reference or pointer to an object. Once an object is assigned to a variable, you can refer to the object by that name. But the data itself is still contained within the object.\n",
    "\n",
    "\n",
    "We can declare Variable in below format :\n",
    "Eg : a=2\n",
    "b='Tommy'"
   ]
  },
  {
   "cell_type": "code",
   "execution_count": null,
   "id": "5a9d8636-ac03-4fed-85ff-9b0e41b8b9c5",
   "metadata": {},
   "outputs": [],
   "source": [
    "#Q3\n",
    "\n",
    "We can convert one data type into other using type -casting.\n",
    "Eg: a=2, here the type of a is int, we can covert into string as well by writing a=str(2), now type a is coverted from int to string\n",
    "\n"
   ]
  },
  {
   "cell_type": "code",
   "execution_count": 7,
   "id": "5a219a95-4194-4b79-baaf-708304ad1a7d",
   "metadata": {},
   "outputs": [],
   "source": [
    "#Q4\n",
    "\n",
    "Firsly we need to open a command line and then type the word python followed by the path of our python file like this: python avi.py "
   ]
  },
  {
   "cell_type": "code",
   "execution_count": null,
   "id": "df290ada-e391-4f76-86ed-f7c5ee45cacc",
   "metadata": {},
   "outputs": [],
   "source": [
    "#Q5\n",
    "\n",
    "my_list=[1,2,3,4,5]\n",
    "\n",
    "sub-list=my_list[1:3]-----This will give the output [2, 3]"
   ]
  },
  {
   "cell_type": "code",
   "execution_count": 10,
   "id": "3e83b5e1-c102-4313-9d1f-99ae95583e15",
   "metadata": {},
   "outputs": [],
   "source": [
    "#Q6\n",
    "\n",
    "Complex numbers are the numbers that are expressed in the form of a+ib where, a,b are real numbers and 'i' is an imaginary number called “iota”. The value of i = (√-1). \n",
    "\n",
    "In Python, complex numbers are represented using the below format:\n",
    "    \n",
    "b=5+7j"
   ]
  },
  {
   "cell_type": "code",
   "execution_count": null,
   "id": "389596b1-c2fd-4a7e-9722-f85ae33b4ffe",
   "metadata": {},
   "outputs": [],
   "source": [
    "#Q7\n",
    "\n",
    "age=25"
   ]
  },
  {
   "cell_type": "code",
   "execution_count": 12,
   "id": "81ea8bdb-0006-44a2-aa2c-8116e05d3d51",
   "metadata": {},
   "outputs": [],
   "source": [
    "#Q8\n",
    "\n",
    "price=9.99\n",
    "\n",
    "Its typpe will be float"
   ]
  },
  {
   "cell_type": "code",
   "execution_count": 17,
   "id": "42ffcfe0-9270-4f17-aa14-a91f50d89641",
   "metadata": {},
   "outputs": [
    {
     "name": "stdout",
     "output_type": "stream",
     "text": [
      "Avi Manchanda\n"
     ]
    }
   ],
   "source": [
    "#Q9\n",
    "\n",
    "name='Avi Manchanda'\n",
    "print(name)"
   ]
  },
  {
   "cell_type": "code",
   "execution_count": null,
   "id": "97d325b3-d5bc-4500-89d7-8b300efb87fa",
   "metadata": {},
   "outputs": [],
   "source": [
    "#Q10\n",
    "\n",
    "s=\"Hello,World!\"\n",
    "\n",
    "extract the substring \"World\" ---   s[6:-1]"
   ]
  },
  {
   "cell_type": "code",
   "execution_count": null,
   "id": "60269bbb-a7a6-409c-81c7-62fdab97407f",
   "metadata": {},
   "outputs": [],
   "source": [
    "#Q11\n",
    "\n",
    "is_student=True"
   ]
  },
  {
   "cell_type": "code",
   "execution_count": null,
   "id": "d597bc14-2ec5-44e2-8ef8-542a1497b57e",
   "metadata": {},
   "outputs": [],
   "source": []
  },
  {
   "cell_type": "code",
   "execution_count": null,
   "id": "ff112935-b1f6-4a64-868c-540bab37887d",
   "metadata": {},
   "outputs": [],
   "source": []
  }
 ],
 "metadata": {
  "kernelspec": {
   "display_name": "Python 3 (ipykernel)",
   "language": "python",
   "name": "python3"
  },
  "language_info": {
   "codemirror_mode": {
    "name": "ipython",
    "version": 3
   },
   "file_extension": ".py",
   "mimetype": "text/x-python",
   "name": "python",
   "nbconvert_exporter": "python",
   "pygments_lexer": "ipython3",
   "version": "3.10.8"
  }
 },
 "nbformat": 4,
 "nbformat_minor": 5
}
